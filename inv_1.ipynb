{
  "nbformat": 4,
  "nbformat_minor": 0,
  "metadata": {
    "colab": {
      "name": "inv 1.ipynb",
      "provenance": []
    },
    "kernelspec": {
      "name": "python3",
      "display_name": "Python 3"
    },
    "language_info": {
      "name": "python"
    }
  },
  "cells": [
    {
      "cell_type": "code",
      "metadata": {
        "id": "W-kD7efuFknF"
      },
      "source": [
        "import json"
      ],
      "execution_count": null,
      "outputs": []
    },
    {
      "cell_type": "code",
      "metadata": {
        "id": "8IGd9Aau1i8B"
      },
      "source": [
        "fd = open(\"record.json\",\"r\")\n",
        "r = fd.read()\n",
        "fd.close()\n",
        "\n",
        "record = json.loads(r)"
      ],
      "execution_count": null,
      "outputs": []
    },
    {
      "cell_type": "code",
      "metadata": {
        "colab": {
          "base_uri": "https://localhost:8080/"
        },
        "id": "XDzIP4mGDsWW",
        "outputId": "19136253-ea53-48a7-fc87-dc45c8eccf13"
      },
      "source": [
        "record"
      ],
      "execution_count": null,
      "outputs": [
        {
          "output_type": "execute_result",
          "data": {
            "text/plain": [
              "{'1': {'catogary': 'Chocolate',\n",
              "  'discount': 0,\n",
              "  'name': 'Dairy Milk',\n",
              "  'price': 5,\n",
              "  'quantity': 50},\n",
              " '10': {'catogary': 'Chocolate',\n",
              "  'discount': 0,\n",
              "  'name': 'Nestle',\n",
              "  'price': 5,\n",
              "  'quantity': 23},\n",
              " '11': {'catogary': 'Chocolate',\n",
              "  'discount': 0,\n",
              "  'name': 'Cadbury',\n",
              "  'price': 10,\n",
              "  'quantity': 150},\n",
              " '12': {'catogary': 'Chocolate',\n",
              "  'discount': 0,\n",
              "  'name': 'Amul',\n",
              "  'price': 5,\n",
              "  'quantity': 20},\n",
              " '13': {'catogary': 'Chocolate',\n",
              "  'discount': 10,\n",
              "  'name': 'Ferro Rocher',\n",
              "  'price': 15,\n",
              "  'quantity': 560},\n",
              " '14': {'catogary': 'Chocolate',\n",
              "  'discount': 5,\n",
              "  'name': 'Hershey',\n",
              "  'price': 5,\n",
              "  'quantity': 500},\n",
              " '15': {'catogary': 'Chocolate',\n",
              "  'discount': 0,\n",
              "  'name': 'Mars',\n",
              "  'price': 5,\n",
              "  'quantity': 102},\n",
              " '16': {'catogary': 'Chocolate',\n",
              "  'discount': 0,\n",
              "  'name': 'Galaxy',\n",
              "  'price': 20,\n",
              "  'quantity': 80},\n",
              " '17': {'catogary': 'Chocolate',\n",
              "  'discount': 0,\n",
              "  'name': 'Milkybar',\n",
              "  'price': 5,\n",
              "  'quantity': 90},\n",
              " '18': {'catogary': 'Chocolate',\n",
              "  'discount': 0,\n",
              "  'name': 'Amul Dark Chocolate',\n",
              "  'price': 80,\n",
              "  'quantity': 70},\n",
              " '19': {'catogary': 'Chocolate',\n",
              "  'discount': 0,\n",
              "  'name': 'Ferrero Rocher Chocolate Balls',\n",
              "  'price': 50,\n",
              "  'quantity': 150},\n",
              " '2': {'catogary': 'Chocolate',\n",
              "  'discount': 0,\n",
              "  'name': 'Barbon',\n",
              "  'price': 5,\n",
              "  'quantity': 50},\n",
              " '20': {'catogary': 'Cup Cake/Choco Pie',\n",
              "  'discount': 0,\n",
              "  'name': 'Lottry Choco Pie',\n",
              "  'price': 10,\n",
              "  'quantity': 90},\n",
              " '21': {'catogary': 'Snake',\n",
              "  'discount': 0,\n",
              "  'name': 'Kurkure',\n",
              "  'price': 5,\n",
              "  'quantity': 50},\n",
              " '22': {'catogary': 'Snakes',\n",
              "  'discount': 0,\n",
              "  'name': 'TakaTak',\n",
              "  'price': 10,\n",
              "  'quantity': 50},\n",
              " '23': {'catogary': 'Snakes',\n",
              "  'discount': 0,\n",
              "  'name': 'Uncle Chips',\n",
              "  'price': 5,\n",
              "  'quantity': 30},\n",
              " '24': {'catogary': 'Toffy',\n",
              "  'discount': 0,\n",
              "  'name': 'Eclayers  ',\n",
              "  'price': 1,\n",
              "  'quantity': 10000},\n",
              " '25': {'catogary': 'Toffy',\n",
              "  'discount': 0,\n",
              "  'name': 'Apple Lebals',\n",
              "  'price': 1,\n",
              "  'quantity': 20000},\n",
              " '26': {'catogary': 'Toffy',\n",
              "  'discount': 0,\n",
              "  'name': 'Pluse',\n",
              "  'price': 1,\n",
              "  'quantity': 9000},\n",
              " '27': {'catogary': 'Toffy',\n",
              "  'discount': 0,\n",
              "  'name': 'KissMe',\n",
              "  'price': 2,\n",
              "  'quantity': 8000},\n",
              " '28': {'catogary': 'Soft Drink',\n",
              "  'discount': 0,\n",
              "  'name': 'Maza',\n",
              "  'price': 20,\n",
              "  'quantity': 500},\n",
              " '29': {'catogary': 'Soft Drink',\n",
              "  'discount': 0,\n",
              "  'name': 'fruty',\n",
              "  'price': 45,\n",
              "  'quantity': 600},\n",
              " '3': {'catogary': 'Chocolate',\n",
              "  'discount': 0,\n",
              "  'name': 'Barbon',\n",
              "  'price': 10,\n",
              "  'quantity': 30},\n",
              " '30': {'catogary': 'Soft Drink',\n",
              "  'discount': 0,\n",
              "  'name': 'Sprite',\n",
              "  'price': 15,\n",
              "  'quantity': 800},\n",
              " '4': {'catogary': 'Chocolate',\n",
              "  'discount': 0,\n",
              "  'name': 'Dairy Milk',\n",
              "  'price': 10,\n",
              "  'quantity': 62},\n",
              " '5': {'catogary': 'Chocolate',\n",
              "  'discount': 0,\n",
              "  'name': 'Kitkat',\n",
              "  'price': 5,\n",
              "  'quantity': 42},\n",
              " '6': {'catogary': 'Chocolate',\n",
              "  'discount': 0,\n",
              "  'name': 'Kitkat',\n",
              "  'price': 20,\n",
              "  'quantity': 53},\n",
              " '7': {'catogary': 'Chocolate',\n",
              "  'discount': 0,\n",
              "  'name': '5 star',\n",
              "  'price': 5,\n",
              "  'quantity': 100},\n",
              " '8': {'catogary': 'Chocolate',\n",
              "  'discount': 0,\n",
              "  'name': 'Galaxy',\n",
              "  'price': 5,\n",
              "  'quantity': 230},\n",
              " '9': {'catogary': 'Chocolate',\n",
              "  'discount': 0,\n",
              "  'name': 'Dairy Milk Silk',\n",
              "  'price': 50,\n",
              "  'quantity': 30}}"
            ]
          },
          "metadata": {},
          "execution_count": 13
        }
      ]
    },
    {
      "cell_type": "code",
      "metadata": {
        "colab": {
          "base_uri": "https://localhost:8080/"
        },
        "id": "dz36RpIXDqmB",
        "outputId": "700647a5-f974-4264-ab16-0d819058822a"
      },
      "source": [
        "prod_id = str(input(\"enter product id\"))\n",
        "catogary = str(input(\"enter category :\"))\n",
        "discount = str(input(\"enter discount\"))\n",
        "name = str(input(\"enter name\"))\n",
        "price = int(input(\"enter price\"))\n",
        "quantity = int(input(\"enter quantity\"))"
      ],
      "execution_count": null,
      "outputs": [
        {
          "name": "stdout",
          "output_type": "stream",
          "text": [
            "enter product id31\n",
            "enter category :snake\n",
            "enter discount0\n",
            "enter namehdd\n",
            "enter price100\n",
            "enter quantity200\n"
          ]
        }
      ]
    },
    {
      "cell_type": "code",
      "metadata": {
        "id": "Z4bzndX6GXre"
      },
      "source": [
        " record[prod_id] = {'category' : catogary, 'discount' : discount, 'name' : name, 'price' : price, 'quantity' : quantity}\n"
      ],
      "execution_count": null,
      "outputs": []
    },
    {
      "cell_type": "code",
      "metadata": {
        "id": "UjtWFz8ELq_w"
      },
      "source": [
        "record"
      ],
      "execution_count": null,
      "outputs": []
    },
    {
      "cell_type": "code",
      "metadata": {
        "id": "9ZXY1-rqMmvS"
      },
      "source": [
        "js = json.dumps(record)\n",
        "\n",
        "fd = open(\"record.json\",'w')\n",
        "fd.write(js)\n",
        "fd.close()\n"
      ],
      "execution_count": null,
      "outputs": []
    },
    {
      "cell_type": "code",
      "metadata": {
        "id": "yTEfcpErNJ07"
      },
      "source": [
        "record"
      ],
      "execution_count": null,
      "outputs": []
    }
  ]
}