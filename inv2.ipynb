{
  "nbformat": 4,
  "nbformat_minor": 0,
  "metadata": {
    "colab": {
      "name": "inv2.ipynb",
      "provenance": []
    },
    "kernelspec": {
      "name": "python3",
      "display_name": "Python 3"
    },
    "language_info": {
      "name": "python"
    }
  },
  "cells": [
    {
      "cell_type": "code",
      "metadata": {
        "id": "nIC7c0fBN2xV"
      },
      "source": [
        "import json"
      ],
      "execution_count": 13,
      "outputs": []
    },
    {
      "cell_type": "code",
      "metadata": {
        "id": "-U1UEZhuOtO5"
      },
      "source": [
        "fd  = open(\"record.json\",'r')\n",
        "r = fd.read()\n",
        "fd.close()\n",
        "\n",
        "record = json.loads(r)\n"
      ],
      "execution_count": 15,
      "outputs": []
    },
    {
      "cell_type": "code",
      "metadata": {
        "id": "uoPCO0XGPWY6"
      },
      "source": [
        "record"
      ],
      "execution_count": null,
      "outputs": []
    },
    {
      "cell_type": "code",
      "metadata": {
        "colab": {
          "base_uri": "https://localhost:8080/"
        },
        "id": "W-HsNsB3PZgu",
        "outputId": "ec341580-db07-4b55-879d-288f0e45c16b"
      },
      "source": [
        "ui_prod = str(input(\"enter the productid\"))\n",
        "ui_quant = int(input(\"enter the quantity\"))\n",
        "\n",
        "\n"
      ],
      "execution_count": 36,
      "outputs": [
        {
          "name": "stdout",
          "output_type": "stream",
          "text": [
            "enter the productid2\n",
            "enter the quantity2\n"
          ]
        }
      ]
    },
    {
      "cell_type": "code",
      "metadata": {
        "colab": {
          "base_uri": "https://localhost:8080/"
        },
        "id": "eMf4QjoZPx8M",
        "outputId": "901d13f1-9a7b-442a-9a36-aedd8e911c54"
      },
      "source": [
        "record[ui_prod]"
      ],
      "execution_count": 37,
      "outputs": [
        {
          "output_type": "execute_result",
          "data": {
            "text/plain": [
              "{'catogary': 'Chocolate',\n",
              " 'discount': 0,\n",
              " 'name': 'Barbon',\n",
              " 'price': 5,\n",
              " 'quantity': 50}"
            ]
          },
          "metadata": {},
          "execution_count": 37
        }
      ]
    },
    {
      "cell_type": "code",
      "metadata": {
        "colab": {
          "base_uri": "https://localhost:8080/"
        },
        "id": "rd6OvXPrQjH8",
        "outputId": "c4d5cb0a-dc76-4e9d-d489-884c2a79067c"
      },
      "source": [
        "print(\"product\",record[ui_prod]['name'])\n",
        "print(\"price\",record[ui_prod]['price'])\n",
        "print(\"billing amount\",record[ui_prod]['price']*ui_quant)\n",
        "record[ui_prod]['quantity'] = record[ui_prod]['quantity'] - ui_quant"
      ],
      "execution_count": 38,
      "outputs": [
        {
          "output_type": "stream",
          "name": "stdout",
          "text": [
            "product Barbon\n",
            "price 5\n",
            "billing amount 10\n"
          ]
        }
      ]
    },
    {
      "cell_type": "code",
      "metadata": {
        "id": "vXrN-65oSkHb"
      },
      "source": [
        "record"
      ],
      "execution_count": null,
      "outputs": []
    },
    {
      "cell_type": "markdown",
      "metadata": {
        "id": "HxeXIKZaUdes"
      },
      "source": [
        "# **Record** after purchasing "
      ]
    },
    {
      "cell_type": "code",
      "metadata": {
        "id": "_wq3yHqPS_Qp"
      },
      "source": [
        "js = json.dumps(record)\n",
        "\n",
        "fd = open(\"record.json\",'w')\n",
        "r = fd.write(js)\n",
        "fd.close()"
      ],
      "execution_count": 44,
      "outputs": []
    },
    {
      "cell_type": "code",
      "metadata": {
        "colab": {
          "base_uri": "https://localhost:8080/"
        },
        "id": "uBAZ9WpAVDmZ",
        "outputId": "5ef785b0-23dd-46cf-b62f-d33e22798ebf"
      },
      "source": [
        "{'prod' : ui_prod,  'quantity' : ui_quant, 'amount' : record[ui_prod] ['price'] * ui_quant}"
      ],
      "execution_count": 50,
      "outputs": [
        {
          "output_type": "execute_result",
          "data": {
            "text/plain": [
              "{'amount': 10, 'prod': '2', 'quantity': 2}"
            ]
          },
          "metadata": {},
          "execution_count": 50
        }
      ]
    },
    {
      "cell_type": "code",
      "metadata": {
        "id": "wufY_z_DW6KW"
      },
      "source": [
        "sales = {\n",
        "         1: {'prod' : ui_prod,  'quantity' : ui_quant, 'amount' : record[ui_prod] ['price'] * ui_quant},\n",
        "         2: {'prod' : ui_prod,  'quantity' : ui_quant, 'amount' : record[ui_prod] ['price'] * ui_quant},\n",
        "         3: {'prod' : ui_prod,  'quantity' : ui_quant, 'amount' : record[ui_prod] ['price'] * ui_quant}\n",
        "}"
      ],
      "execution_count": 53,
      "outputs": []
    },
    {
      "cell_type": "code",
      "metadata": {
        "id": "x384htXwZNtI"
      },
      "source": [
        "fd = open(\"record.json\",'r')\n",
        "r = fd.read(r)\n",
        "fd.close()"
      ],
      "execution_count": 54,
      "outputs": []
    }
  ]
}